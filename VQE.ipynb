{
 "cells": [
  {
   "cell_type": "code",
   "execution_count": 217,
   "id": "dd989298",
   "metadata": {},
   "outputs": [
    {
     "name": "stderr",
     "output_type": "stream",
     "text": [
      "ibmqfactory.load_account:WARNING:2023-02-06 19:10:46,161: Credentials are already in use. The existing account in the session will be replaced.\n"
     ]
    },
    {
     "data": {
      "application/vnd.jupyter.widget-view+json": {
       "model_id": "ee8e2972398c4faf8345e051e88e61f4",
       "version_major": 2,
       "version_minor": 0
      },
      "text/plain": [
       "Accordion(children=(VBox(layout=Layout(max_width='710px', min_width='710px')),), layout=Layout(max_height='500…"
      ]
     },
     "metadata": {},
     "output_type": "display_data"
    },
    {
     "data": {
      "application/javascript": [
       "\n",
       "        const isLab = window['Jupyter'] === undefined;\n",
       "        const notebook = document.querySelector( isLab ? 'div.jp-Notebook' : '#site');\n",
       "        const jobWidget = document.querySelector('div.job_widget');\n",
       "        notebook.prepend(jobWidget);\n",
       "        jobWidget.style.zIndex = '999';\n",
       "        jobWidget.style.position = isLab ? 'sticky' : 'fixed';\n",
       "        jobWidget.style.boxShadow = '5px 5px 5px -3px black';\n",
       "        jobWidget.style.opacity = '0.95';\n",
       "        if (isLab) {\n",
       "            jobWidget.style.top = '0';\n",
       "            jobWidget.style.left = '0';\n",
       "        }\n",
       "        "
      ],
      "text/plain": [
       "<IPython.core.display.Javascript object>"
      ]
     },
     "metadata": {},
     "output_type": "display_data"
    }
   ],
   "source": [
    "import numpy as np\n",
    "import pylab\n",
    "import matplotlib.pyplot as plt\n",
    "import copy\n",
    "from qiskit import BasicAer, Aer\n",
    "from qiskit_nature.drivers import Molecule\n",
    "from qiskit_nature.settings import settings\n",
    "settings.dict_aux_operators = False\n",
    "from qiskit.utils import algorithm_globals, QuantumInstance\n",
    "from qiskit.algorithms import minimum_eigen_solvers, VQE\n",
    "from qiskit.algorithms.minimum_eigensolvers import MinimumEigensolver\n",
    "from qiskit_nature.circuit.library import HartreeFock, UCCSD\n",
    "#from qiskit_nature.components.variational_forms import UCCSD\n",
    "from qiskit_nature.second_q.drivers.pyscfd import pyscfdriver\n",
    "from qiskit_nature.drivers.second_quantization import (\n",
    "    ElectronicStructureMoleculeDriver, ElectronicStructureDriverType)\n",
    "from qiskit_nature.problems.second_quantization import ElectronicStructureProblem\n",
    "from qiskit_nature.mappers.second_quantization import ParityMapper\n",
    "from qiskit_nature.transformers.second_quantization.electronic import FreezeCoreTransformer\n",
    "from qiskit_nature.converters.second_quantization import QubitConverter\n",
    "from qiskit.opflow import TwoQubitReduction\n",
    "from qiskit_nature.algorithms import (GroundStateEigensolver,\n",
    "                                      NumPyMinimumEigensolverFactory)\n",
    "from qiskit.algorithms.optimizers import SLSQP, COBYLA\n",
    "from qiskit import IBMQ\n",
    "IBMQ.load_account()\n",
    "import qiskit.tools.jupyter\n",
    "from qiskit.circuit.library import EfficientSU2\n",
    "from qiskit.providers.fake_provider import FakeManila\n",
    "from qiskit.providers.aer.noise import NoiseModel\n",
    "from qiskit.utils.mitigation import CompleteMeasFitter\n",
    "%qiskit_job_watcher\n"
   ]
  },
  {
   "cell_type": "code",
   "execution_count": 228,
   "id": "b9981fe1",
   "metadata": {},
   "outputs": [
    {
     "name": "stdout",
     "output_type": "stream",
     "text": [
      "step 0\n",
      "step 1\n",
      "step 2\n",
      "step 3\n",
      "step 4\n",
      "step 5\n",
      "step 6\n",
      "step 7\n",
      "step 8\n",
      "step 9\n",
      "step 10\n",
      "step 11\n",
      "step 12\n",
      "step 13\n",
      "step 14\n",
      "step 15\n",
      "step 16\n",
      "step 17\n",
      "step 18\n",
      "step 19\n",
      "step 20\n",
      "step 21\n",
      "step 22\n",
      "step 23\n",
      "step 24\n"
     ]
    },
    {
     "ename": "TypeError",
     "evalue": "'list' object cannot be interpreted as an integer",
     "output_type": "error",
     "traceback": [
      "\u001b[0;31m---------------------------------------------------------------------------\u001b[0m",
      "\u001b[0;31mTypeError\u001b[0m                                 Traceback (most recent call last)",
      "Cell \u001b[0;32mIn[228], line 90\u001b[0m\n\u001b[1;32m     80\u001b[0m     vqe_energies\u001b[38;5;241m.\u001b[39mappend(vqe_result)\n\u001b[1;32m     81\u001b[0m \u001b[38;5;66;03m#    print(vqe_energies)\u001b[39;00m\n\u001b[1;32m     82\u001b[0m     \n\u001b[1;32m     83\u001b[0m     \n\u001b[0;32m   (...)\u001b[0m\n\u001b[1;32m     87\u001b[0m \u001b[38;5;66;03m#    hf_result = problem.interpret(hf_calc).total_energies[0].real\u001b[39;00m\n\u001b[1;32m     88\u001b[0m \u001b[38;5;66;03m#    hf_energies.append(hf_result)\u001b[39;00m\n\u001b[0;32m---> 90\u001b[0m \u001b[38;5;28mprint\u001b[39m(qubit_op, qubit_op\u001b[38;5;241m.\u001b[39mnum_qubits, \u001b[38;5;28mlen\u001b[39m(\u001b[38;5;28;43mrange\u001b[39;49m\u001b[43m(\u001b[49m\u001b[43moperator\u001b[49m\u001b[43m)\u001b[49m))    \n\u001b[1;32m     91\u001b[0m plt\u001b[38;5;241m.\u001b[39mplot(distances, exact_energies, label \u001b[38;5;241m=\u001b[39m \u001b[38;5;124m'\u001b[39m\u001b[38;5;124mExact Energy\u001b[39m\u001b[38;5;124m'\u001b[39m)\n\u001b[1;32m     92\u001b[0m plt\u001b[38;5;241m.\u001b[39mplot(distances, vqe_energies, label \u001b[38;5;241m=\u001b[39m \u001b[38;5;124m'\u001b[39m\u001b[38;5;124mVQE Energy\u001b[39m\u001b[38;5;124m'\u001b[39m)\n",
      "\u001b[0;31mTypeError\u001b[0m: 'list' object cannot be interpreted as an integer"
     ]
    }
   ],
   "source": [
    "distances = np.arange(0.5, 3.0, 0.1)\n",
    "vqe_energies = []\n",
    "hf_energies = []\n",
    "exact_energies = []\n",
    "backend0 = BasicAer.get_backend(\"statevector_simulator\")\n",
    "provider = IBMQ.get_provider(hub='ibm-q', group='open', project='main')\n",
    "backend1 = provider.get_backend('ibmq_quito')\n",
    "backend2 = Aer.get_backend('aer_simulator')\n",
    "device = FakeManila()\n",
    "NOISE_MODEL = NoiseModel.from_backend(device)\n",
    "coupling_map = device.configuration().coupling_map\n",
    "qi = QuantumInstance(backend = backend2, noise_model = NOISE_MODEL, coupling_map = coupling_map,\n",
    "                     measurement_error_mitigation_cls = CompleteMeasFitter)\n",
    "optimizer = COBYLA(maxiter = 1000)\n",
    "\n",
    "\n",
    "for i,d in enumerate(distances):\n",
    "    print('step', i)\n",
    "    \n",
    "    #setup the experiment\n",
    "    \n",
    "    \n",
    "    molecule = Molecule(geometry=[[\"H\", [0.0, 0.0, 0.0]],[\"H\", [d, 0.0, 0.0]]],\n",
    "        multiplicity=1,  # = 2*spin + 1\n",
    "        charge=0)\n",
    "    \n",
    "    driver = ElectronicStructureMoleculeDriver(molecule=molecule, basis=\"sto6g\", \n",
    "                                               driver_type=ElectronicStructureDriverType.PYSCF)\n",
    "    qmolecule = driver.run()\n",
    "    num_particles = (qmolecule\n",
    "                        .get_property(\"ParticleNumber\")\n",
    "                        .num_particles)\n",
    "    num_spin_orbitals = int(qmolecule\n",
    "                            .get_property(\"ParticleNumber\")\n",
    "                            .num_spin_orbitals)\n",
    "    \n",
    "    \n",
    "    \n",
    "    problem = ElectronicStructureProblem(driver, [FreezeCoreTransformer(freeze_core=True)])\n",
    "\n",
    "    operator = problem.second_q_ops()\n",
    "    num_spin_orbitals = problem.num_spin_orbitals\n",
    "    num_particles = problem.num_particles\n",
    "    \n",
    "    mapper = ParityMapper()\n",
    "    hamiltonian = operator[0]\n",
    "    converter = QubitConverter(mapper,two_qubit_reduction=True)\n",
    "    reducer = TwoQubitReduction(num_particles)\n",
    "    qubit_op = converter.convert(hamiltonian)\n",
    "    qubit_op = reducer.convert(qubit_op)\n",
    "\n",
    "    \n",
    "   \n",
    "\n",
    "    #Exact Result\n",
    "    \n",
    "    solver = NumPyMinimumEigensolverFactory()\n",
    "    calc = GroundStateEigensolver(converter, solver)\n",
    "    result = calc.solve(problem)\n",
    "    hf_energies.append(result.hartree_fock_energy)\n",
    "    exact_energies.append(result.total_energies[0].real)\n",
    "#    print(hf_energies)\n",
    "#    print(exact_energies)\n",
    "    \n",
    "    \n",
    "    \n",
    "    #VQE\n",
    "    \n",
    "    initial_state = HartreeFock(num_spin_orbitals, num_particles, converter)\n",
    "    ansatz = UCCSD(converter,\n",
    "                     num_particles,\n",
    "                     num_spin_orbitals,\n",
    "                     initial_state=initial_state)\n",
    "    \n",
    "    ansatz2 = EfficientSU2(qubit_op.num_qubits, entanglement=\"linear\")\n",
    "    \n",
    "    vqe = VQE(ansatz, optimizer, quantum_instance = backend0)\n",
    "    vqe_calc = vqe.compute_minimum_eigenvalue(qubit_op)\n",
    "    vqe_result = problem.interpret(vqe_calc).total_energies[0].real\n",
    "    vqe_energies.append(vqe_result)\n",
    "#    print(vqe_energies)\n",
    "    \n",
    "    \n",
    "plt.plot(distances, exact_energies, label = 'Exact Energy')\n",
    "plt.plot(distances, vqe_energies, label = 'VQE Energy')\n",
    "plt.plot(distances, hf_energies, label = 'HF Energy')\n",
    "plt.legend()\n",
    "plt.show()\n"
   ]
  },
  {
   "cell_type": "code",
   "execution_count": null,
   "id": "d82879a2",
   "metadata": {},
   "outputs": [],
   "source": []
  },
  {
   "cell_type": "code",
   "execution_count": null,
   "id": "76c61313",
   "metadata": {},
   "outputs": [],
   "source": []
  },
  {
   "cell_type": "code",
   "execution_count": null,
   "id": "b065c850",
   "metadata": {},
   "outputs": [],
   "source": []
  }
 ],
 "metadata": {
  "kernelspec": {
   "display_name": "Qiskit(stable)",
   "language": "python",
   "name": "qiskit-stable"
  },
  "language_info": {
   "codemirror_mode": {
    "name": "ipython",
    "version": 3
   },
   "file_extension": ".py",
   "mimetype": "text/x-python",
   "name": "python",
   "nbconvert_exporter": "python",
   "pygments_lexer": "ipython3",
   "version": "3.9.16"
  }
 },
 "nbformat": 4,
 "nbformat_minor": 5
}
